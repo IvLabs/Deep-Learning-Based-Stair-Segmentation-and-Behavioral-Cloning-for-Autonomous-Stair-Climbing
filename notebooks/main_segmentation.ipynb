{
 "cells": [
  {
   "cell_type": "markdown",
   "metadata": {},
   "source": [
    "## Stair Segmentation with lines"
   ]
  },
  {
   "cell_type": "code",
   "execution_count": null,
   "metadata": {},
   "outputs": [],
   "source": [
    "%reload_ext autoreload\n",
    "%autoreload 2\n",
    "%matplotlib inline\n"
   ]
  },
  {
   "cell_type": "code",
   "execution_count": null,
   "metadata": {},
   "outputs": [],
   "source": [
    "#export \n",
    "from fastai.vision import *\n",
    "from fastai.callbacks.hooks import *\n",
    "from fastai.utils.mem import *\n",
    "import fastai \n",
    "import cv2 as cv\n",
    "import matplotlib.pyplot as plt\n",
    "import warnings\n",
    "warnings.filterwarnings(\"ignore\")"
   ]
  },
  {
   "cell_type": "code",
   "execution_count": null,
   "metadata": {},
   "outputs": [],
   "source": [
    "#export \n",
    "path_lbl = Path(\"../data/masks\")\n",
    "path_img = Path(\"../data/images\")\n",
    "\n",
    "path_lbl.exists()"
   ]
  },
  {
   "cell_type": "markdown",
   "metadata": {},
   "source": [
    "## Data"
   ]
  },
  {
   "cell_type": "code",
   "execution_count": null,
   "metadata": {},
   "outputs": [],
   "source": [
    "#export\n",
    "fnames = get_image_files(path_img)\n",
    "lbl_names = get_image_files(path_lbl)\n",
    "img_f = fnames[4]\n",
    "img = open_image(img_f)\n",
    "\n",
    "get_y_fn = lambda x: path_lbl/f'{x.stem}.png'\n",
    "mask = open_mask(get_y_fn(img_f), div=False)\n",
    "src_size = np.array(mask.shape[1:])\n"
   ]
  },
  {
   "cell_type": "code",
   "execution_count": null,
   "metadata": {},
   "outputs": [],
   "source": [
    "#export\n",
    "codes = ['background', 'stairs']"
   ]
  },
  {
   "cell_type": "markdown",
   "metadata": {},
   "source": [
    "## Datasets"
   ]
  },
  {
   "cell_type": "code",
   "execution_count": null,
   "metadata": {},
   "outputs": [],
   "source": [
    "#export \n",
    "def get_dataset(size, path_img, path_lbl, batch_size, codes):\n",
    "    return (SegmentationItemList.from_folder(path_img)\n",
    "            .split_by_rand_pct(seed=38)\n",
    "            .label_from_func(lambda x: path_lbl/f'{x.stem}.png', classes=codes)\n",
    "            .transform(get_transforms(), size=size, tfm_y=True)\n",
    "            .databunch(bs=batch_size)\n",
    "            .normalize(imagenet_stats))"
   ]
  },
  {
   "cell_type": "code",
   "execution_count": null,
   "metadata": {},
   "outputs": [],
   "source": [
    "data.show_batch(2, figsize=(10,7))"
   ]
  },
  {
   "cell_type": "code",
   "execution_count": null,
   "metadata": {},
   "outputs": [],
   "source": [
    "data.show_batch(2, figsize=(10,7), ds_type=DatasetType.Valid)"
   ]
  },
  {
   "cell_type": "markdown",
   "metadata": {},
   "source": [
    "## Model"
   ]
  },
  {
   "cell_type": "code",
   "execution_count": null,
   "metadata": {},
   "outputs": [],
   "source": [
    "#export\n",
    "def accuracy(input, target):\n",
    "    target = target.squeeze(1)\n",
    "    return (input.argmax(dim=1)==target).float().mean()\n",
    "\n",
    "metrics=accuracy\n",
    "\n",
    "wd=1e-2\n",
    "model = models.resnet34\n"
   ]
  },
  {
   "cell_type": "code",
   "execution_count": null,
   "metadata": {},
   "outputs": [],
   "source": [
    "#export\n",
    "for stage, size, batchsize, lr in zip([1, 2], [src_size//2, src_size], [8, 4], [1e-3, 1e-5]):\n",
    "    if stage == 1 : continue \n",
    "    data = get_dataset(size, path_img, path_lbl, batchsize, codes)\n",
    "    learn = unet_learner(data, model, metrics=metrics, wd=wd, callback_fns=ShowGraph)\n",
    "    learn.fit_one_cycle(1, slice(lr), pct_start=0.9)\n",
    "    learn.unfreeze()\n",
    "    lrs = slice(lr/400,lr/4)\n",
    "    learn.fit_one_cycle(1, lrs, pct_start=0.8)\n",
    "    learn.save(f'stage-{stage}')\n",
    "    print(f\"completed stage {stage}\")\n",
    "    learn.export()\n",
    "    learn.destroy()\n",
    "print(\"training completed!\")"
   ]
  }
 ],
 "metadata": {
  "kernelspec": {
   "display_name": "fastai1",
   "language": "python",
   "name": "fastai"
  },
  "language_info": {
   "codemirror_mode": {
    "name": "ipython",
    "version": 3
   },
   "file_extension": ".py",
   "mimetype": "text/x-python",
   "name": "python",
   "nbconvert_exporter": "python",
   "pygments_lexer": "ipython3",
   "version": "3.7.4"
  }
 },
 "nbformat": 4,
 "nbformat_minor": 4
}
